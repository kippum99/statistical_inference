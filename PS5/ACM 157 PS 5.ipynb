{
 "cells": [
  {
   "cell_type": "code",
   "execution_count": 15,
   "metadata": {},
   "outputs": [],
   "source": [
    "import numpy as np\n",
    "import random\n",
    "from scipy.stats import norm"
   ]
  },
  {
   "cell_type": "markdown",
   "metadata": {},
   "source": [
    "# Problem 3b {-}"
   ]
  },
  {
   "cell_type": "code",
   "execution_count": 12,
   "metadata": {},
   "outputs": [
    {
     "name": "stdout",
     "output_type": "stream",
     "text": [
      "Estimated type I error rate:  0.0531\n"
     ]
    }
   ],
   "source": [
    "lam = 1\n",
    "n = 20\n",
    "alpha = 0.05\n",
    "m = 10 ** 4\n",
    "\n",
    "num_rejects = 0\n",
    "\n",
    "for _ in range(m):\n",
    "    sample = np.random.poisson(lam=lam, size=n)\n",
    "    error = norm.ppf(alpha / 2) * (lam / n) ** (1 / 2)\n",
    "    sample_mean = np.mean(sample)\n",
    "    \n",
    "    if lam < sample_mean + error or lam > sample_mean - error:\n",
    "        # Confidence interval doesn't capture lam -> reject null hypothesis\n",
    "        num_rejects += 1\n",
    "        \n",
    "print('Estimated type I error rate: ', num_rejects / m)"
   ]
  },
  {
   "cell_type": "markdown",
   "metadata": {},
   "source": [
    "# Problem 4 {-}"
   ]
  },
  {
   "cell_type": "markdown",
   "metadata": {},
   "source": [
    "We can perform a permutation test to test our null hypothesis that | mu_A - mu_B | = 0 against the alternative hypothesis that | mu_A - mu_B | > 0, where mu_A and mu_B are the true mean soil pH values for locations A and B respectively. The absolute difference of the sample means | mu_A - mu_B | is our test statistic, and we reject the null hypothesis if our estimated p-value is small enough (< 0.05)."
   ]
  },
  {
   "cell_type": "code",
   "execution_count": 22,
   "metadata": {},
   "outputs": [
    {
     "name": "stdout",
     "output_type": "stream",
     "text": [
      "Estimated p-value:  0.03499\n"
     ]
    }
   ],
   "source": [
    "K = 10 ** 5\n",
    "\n",
    "A = [7.58, 8.52, 8.01, 7.99, 7.93, 7.89, 7.85, 7.82, 7.80]\n",
    "B = [7.85, 7.73, 8.53, 7.40, 7.35, 7.30, 7.27, 7.27, 7.23]\n",
    "\n",
    "s_obs = abs(np.mean(A) - np.mean(B))\n",
    "\n",
    "combined = A + B\n",
    "p_value = 0\n",
    "\n",
    "for _ in range(K):\n",
    "    # Get a permutation sample \n",
    "    random.shuffle(combined)\n",
    "    a = combined[:len(A)]\n",
    "    b = combined[len(A):]\n",
    "    s = abs(np.mean(a) - np.mean(b))\n",
    "    \n",
    "    if s > s_obs:\n",
    "        p_value += 1\n",
    "        \n",
    "p_value /= K\n",
    "\n",
    "print('Estimated p-value: ', p_value)"
   ]
  },
  {
   "cell_type": "markdown",
   "metadata": {},
   "source": [
    "We get an estimated p-value of 0.03499, which is small enough for us to reject our null hypothesis. Thus we have strong evidence against our null hypothesis; in other words, we have strong evidence that the true mean soil pH values differ for the two locations."
   ]
  },
  {
   "cell_type": "markdown",
   "metadata": {},
   "source": [
    "# Prolem 5a {-}"
   ]
  },
  {
   "cell_type": "markdown",
   "metadata": {},
   "source": [
    "We will use the Wald test for comparing means of two populations as described in lecture 12 page 3. We can find the p-value by solving W(X) = z_(1-alpha/2) as given in page 7 of lecture 12."
   ]
  },
  {
   "cell_type": "code",
   "execution_count": 14,
   "metadata": {},
   "outputs": [
    {
     "name": "stdout",
     "output_type": "stream",
     "text": [
      "p-value:  3.3122956254677125e-265\n"
     ]
    }
   ],
   "source": [
    "twain = [0.225, 0.262, 0.217, 0.24, 0.23, 0.229, 0.235, 0.217]\n",
    "snodgrass = [0.209, 0.205, 0.196, 0.21, 0.202, 0.207, 0.224, 0.223, 0.22, 0.201]\n",
    "\n",
    "se_hat = (np.var(twain, ddof=1) / len(twain) + np.var(snodgrass, ddof=1) / len(snodgrass)) ** (1 / 2)\n",
    "W = abs(np.mean(twain) - np.mean(snodgrass) / se_hat)\n",
    "p_value = 2 * norm.cdf(-W)\n",
    "print('p-value: ', p_value)"
   ]
  },
  {
   "cell_type": "markdown",
   "metadata": {},
   "source": [
    "Since the p-value is very small (close to zero), we have a very strong evidence against our null hypothesis that the two populations hae the same mean of the proportion of three-letter words. Thus we conclude that it is very unlikely that the essays written by Snodgrass were actually written by Mark Twain."
   ]
  },
  {
   "cell_type": "markdown",
   "metadata": {},
   "source": [
    "# Problem 5b {-}"
   ]
  },
  {
   "cell_type": "markdown",
   "metadata": {},
   "source": [
    "We will use the absolute difference of the sample means as a test statistic."
   ]
  },
  {
   "cell_type": "code",
   "execution_count": 20,
   "metadata": {},
   "outputs": [
    {
     "name": "stdout",
     "output_type": "stream",
     "text": [
      "Estimated p-value:  0.00062\n"
     ]
    }
   ],
   "source": [
    "K = 10 ** 5\n",
    "\n",
    "s_obs = abs(np.mean(twain) - np.mean(snodgrass))\n",
    "\n",
    "combined = twain + snodgrass\n",
    "p_value = 0\n",
    "\n",
    "for _ in range(K):\n",
    "    # Get a permutation sample \n",
    "    random.shuffle(combined)\n",
    "    t = combined[:len(twain)]\n",
    "    s = combined[len(twain):]\n",
    "    s = abs(np.mean(t) - np.mean(snodgrass))\n",
    "    \n",
    "    if s > s_obs:\n",
    "        p_value += 1\n",
    "        \n",
    "p_value /= K\n",
    "\n",
    "print('Estimated p-value: ', p_value)"
   ]
  },
  {
   "cell_type": "markdown",
   "metadata": {},
   "source": [
    "We get a very small estimated p-value of 0.00062, meaning we have a very strong evidence against our null hypothesis that the two populations hae the same mean of the proportion of three-letter words. Thus we conclude the same as in part a; it is very unlikely that the essays written by Snodgrass were actually written by Mark Twain."
   ]
  }
 ],
 "metadata": {
  "kernelspec": {
   "display_name": "Python 3",
   "language": "python",
   "name": "python3"
  },
  "language_info": {
   "codemirror_mode": {
    "name": "ipython",
    "version": 3
   },
   "file_extension": ".py",
   "mimetype": "text/x-python",
   "name": "python",
   "nbconvert_exporter": "python",
   "pygments_lexer": "ipython3",
   "version": "3.7.0"
  }
 },
 "nbformat": 4,
 "nbformat_minor": 2
}
