{
 "cells": [
  {
   "cell_type": "code",
   "execution_count": 2,
   "metadata": {},
   "outputs": [],
   "source": [
    "import math\n",
    "import matplotlib.pyplot as plt\n",
    "import numpy as np\n",
    "import random"
   ]
  },
  {
   "cell_type": "code",
   "execution_count": 3,
   "metadata": {},
   "outputs": [],
   "source": [
    "data = np.loadtxt('../data/birth.txt')"
   ]
  },
  {
   "cell_type": "markdown",
   "metadata": {},
   "source": [
    "# Problem 3a {-}"
   ]
  },
  {
   "cell_type": "code",
   "execution_count": 4,
   "metadata": {},
   "outputs": [
    {
     "name": "stdout",
     "output_type": "stream",
     "text": [
      "Population mean =  3.389944216423948\n",
      "Sample mean =  3.33049926\n",
      "Exact standard error of sample mean =  0.04956392357753126\n"
     ]
    }
   ],
   "source": [
    "# Birth weights in kg\n",
    "bwt = data[:,0]\n",
    "bwt = bwt[bwt != 999] * 0.0283495\n",
    "mu = np.mean(bwt)\n",
    "print('Population mean = ', mu)\n",
    "\n",
    "n = 100\n",
    "X = random.sample(list(bwt), n)\n",
    "sample_mean = np.mean(X)\n",
    "print('Sample mean = ', sample_mean)\n",
    "\n",
    "sig = np.std(bwt)\n",
    "N = len(bwt)\n",
    "se = sig / math.sqrt(n) * math.sqrt(1 - (n - 1) / (N - 1))\n",
    "print('Exact standard error of sample mean = ', se)"
   ]
  },
  {
   "cell_type": "markdown",
   "metadata": {},
   "source": [
    "# Problem 3b {-}"
   ]
  },
  {
   "cell_type": "code",
   "execution_count": 5,
   "metadata": {},
   "outputs": [
    {
     "name": "stdout",
     "output_type": "stream",
     "text": [
      "Boostrap estimate of standard error of sample mean =  0.04883765703664657\n"
     ]
    }
   ],
   "source": [
    "B = 10 ** 3\n",
    "P_boot = X * round(N / n)\n",
    "\n",
    "def get_bootstrap_estimate():\n",
    "    # Generate B simple random samples from P_boot and store sample means\n",
    "    means = []\n",
    "\n",
    "    for _ in range(B):\n",
    "        means.append(np.mean(random.sample(P_boot, n)))\n",
    "\n",
    "    # Compute bootstrap estimate of standard error of mean \n",
    "    avg = sum(means) / B    # avg of sample means\n",
    "    se_hat = math.sqrt((1 / B) * sum([(mean - avg) ** 2 for mean in means]))\n",
    "    \n",
    "    return se_hat\n",
    "\n",
    "print('Boostrap estimate of standard error of sample mean = ', get_bootstrap_estimate())"
   ]
  },
  {
   "cell_type": "markdown",
   "metadata": {},
   "source": [
    "# Problem 3c {-}"
   ]
  },
  {
   "cell_type": "code",
   "execution_count": 6,
   "metadata": {},
   "outputs": [
    {
     "name": "stdout",
     "output_type": "stream",
     "text": [
      "Boostrap estimate of standard error of sample mean =  0.045895606202961264\n"
     ]
    }
   ],
   "source": [
    "B = 10 ** 3\n",
    "k, r = divmod(N, n)\n",
    "\n",
    "P_boot1 = X * k\n",
    "P_boot2 = X * (k + 1)\n",
    "\n",
    "p = (1 - r / n) * (1 - r / (N - 1))\n",
    "\n",
    "def get_bootstrap_estimate2():\n",
    "    # Generate B simple random samples from P_boot and store sample means\n",
    "    means = []\n",
    "\n",
    "    for _ in range(B):\n",
    "        if random.random() < p:\n",
    "            means.append(np.mean(random.sample(P_boot1, n)))\n",
    "        else:\n",
    "            means.append(np.mean(random.sample(P_boot2, n)))\n",
    "\n",
    "    # Compute bootstrap estimate of standard error of mean \n",
    "    avg = sum(means) / B    # avg of sample means\n",
    "    se_hat = math.sqrt((1 / B) * sum([(mean - avg) ** 2 for mean in means]))\n",
    "    \n",
    "    return se_hat\n",
    "\n",
    "print('Boostrap estimate of standard error of sample mean = ', get_bootstrap_estimate2())"
   ]
  },
  {
   "cell_type": "markdown",
   "metadata": {},
   "source": [
    "# Problem 3d {-}"
   ]
  },
  {
   "cell_type": "code",
   "execution_count": 7,
   "metadata": {},
   "outputs": [],
   "source": [
    "estimates1 = [get_bootstrap_estimate() for _ in range(100)]\n",
    "estimates2 = [get_bootstrap_estimate2() for _ in range(100)]"
   ]
  },
  {
   "cell_type": "code",
   "execution_count": 8,
   "metadata": {},
   "outputs": [
    {
     "data": {
      "image/png": "[encoded data removed]",
      "text/plain": [
       "<Figure size 432x288 with 1 Axes>"
      ]
     },
     "metadata": {
      "needs_background": "light"
     },
     "output_type": "display_data"
    }
   ],
   "source": [
    "plt.boxplot([estimates1, estimates2])\n",
    "plt.plot([1, 2], [se, se], 'go', label='True value')\n",
    "plt.xticks([1, 2], ['Bootstrap estimate', 'Bootstrap estimate (alternative method)'])\n",
    "plt.ylabel('Estimated standard error of sample mean')\n",
    "plt.legend()\n",
    "plt.title('Boxplots of bootstrap estimates obtained from two methods')\n",
    "plt.show()"
   ]
  }
 ],
 "metadata": {
  "kernelspec": {
   "display_name": "Python 3",
   "language": "python",
   "name": "python3"
  },
  "language_info": {
   "codemirror_mode": {
    "name": "ipython",
    "version": 3
   },
   "file_extension": ".py",
   "mimetype": "text/x-python",
   "name": "python",
   "nbconvert_exporter": "python",
   "pygments_lexer": "ipython3",
   "version": "3.7.0"
  }
 },
 "nbformat": 4,
 "nbformat_minor": 2
}
